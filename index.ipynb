{
 "cells": [
  {
   "cell_type": "markdown",
   "metadata": {},
   "source": [
    "# Tecnología de Fabricación con `Jupyter Notebooks`\n",
    "\n",
    "## Índice\n",
    "\n",
    "1. Forja de metales\n",
    "    * [Examen de Tecnología de Fabricación (GIA) 6/9/2017](forja/2017-09-06_forja.ipynb)\n",
    "1. Laminación plana de metales\n",
    "    * [Examen de Tecnología de Fabricación (GIA) 24/6/2017](laminacion/2017-06_examen.ipynb)\n",
    "1. Conformado de chapa metálica\n",
    "    * [Corte de chapa](chapa/corte.ipynb)\n",
    "    * [Plegado de chapa](chapa/plegado.ipynb)\n",
    "1. Mecanizado de metales\n",
    "    * [Modelo de Merchant: influencia del ángulo de desprendimiento y de la fricción en el corte](mecanizado/corte_ortogonal.ipynb)"
   ]
  },
  {
   "cell_type": "code",
   "execution_count": null,
   "metadata": {},
   "outputs": [],
   "source": []
  }
 ],
 "metadata": {
  "kernelspec": {
   "display_name": "Python 3 (ipykernel)",
   "language": "python",
   "name": "python3"
  },
  "language_info": {
   "codemirror_mode": {
    "name": "ipython",
    "version": 3
   },
   "file_extension": ".py",
   "mimetype": "text/x-python",
   "name": "python",
   "nbconvert_exporter": "python",
   "pygments_lexer": "ipython3",
   "version": "3.10.4"
  }
 },
 "nbformat": 4,
 "nbformat_minor": 4
}
