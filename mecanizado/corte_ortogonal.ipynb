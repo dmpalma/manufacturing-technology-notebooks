{
 "cells": [
  {
   "cell_type": "markdown",
   "metadata": {},
   "source": [
    "# Mecánica del arranque de viruta\n",
    "\n",
    "\n",
    "## Corte ortogonal\n",
    "\n",
    "<img src=\"corte_ortogonal.png\" alt=\"Esquema de corte ortogonal\" width=\"300\"/>\n",
    "\n",
    "Figura 1. Esquema de corte ortogonal.\n",
    "\n",
    "El ángulo de deslizamiento puede estimarse mediante el modelo de Merchant como:\n",
    "$$\n",
    "\\phi = \\frac{\\pi}{4} + \\frac{\\gamma-\\delta}{2}\n",
    "$$\n",
    "siendo $\\gamma$ el ángulo de desprendimiento de la herramienta de corte y donde $\\delta$ está relacionada con el coeficiente de fricción en la forma $\\mu=\\tan \\delta$.\n",
    "\n",
    "El espesor de viruta deformada $h_2$ puede obtenerse mediante relaciones trigonométricas en la zona de deslizamiento:\n",
    "$$\n",
    "h_2 = \\xi h_1\n",
    "\\qquad , \\qquad\n",
    "\\xi = \\frac{\\cos(\\phi-\\gamma)}{\\sin \\gamma}\n",
    "$$\n",
    "donde $\\xi > 1$ es el factor de recalcado.\n",
    "\n",
    "### Ejemplo\n",
    "\n",
    "Las ecuaciones anteriores permite realizar una simulación interactiva del proceso de corte ortogonal. Ejecute la siguiente celda (<kbd>Shift</kbd> + <kbd>Enter</kbd>) y use los desplazadores para cambiar los valores del coeficiente de fricción y del ángulo de desprendimiento."
   ]
  },
  {
   "cell_type": "code",
   "execution_count": 1,
   "metadata": {},
   "outputs": [
    {
     "data": {
      "application/vnd.jupyter.widget-view+json": {
       "model_id": "6beec37315c746a59198c0e5f82ac9a0",
       "version_major": 2,
       "version_minor": 0
      },
      "text/plain": [
       "interactive(children=(FloatSlider(value=0.2, description='$\\\\mu$:', max=0.5, step=0.05), FloatSlider(value=5.0…"
      ]
     },
     "metadata": {},
     "output_type": "display_data"
    }
   ],
   "source": [
    "from corte_ortogonal import *\n",
    "%matplotlib inline\n",
    "from ipywidgets import interactive, fixed\n",
    "import ipywidgets as widgets\n",
    "wm=widgets.FloatSlider(min=0, max=0.5, step=0.05, value=0.2, description=r'$\\mu$:', \n",
    "                       readout=True, readout_format='.2f',)\n",
    "wg=widgets.FloatSlider(min=-20, max=50, step=1, value=5, description=r'$\\gamma$ (°):', \n",
    "                       readout=True, readout_format='.0f',)\n",
    "ip=interactive(plot_corte_ortogonal, h1=fixed(1), mu=wm, gamma=wg, alpha=fixed(3))\n",
    "ip"
   ]
  },
  {
   "cell_type": "code",
   "execution_count": null,
   "metadata": {
    "collapsed": true
   },
   "outputs": [],
   "source": []
  }
 ],
 "metadata": {
  "kernelspec": {
   "display_name": "Python [default]",
   "language": "python",
   "name": "python3"
  },
  "language_info": {
   "codemirror_mode": {
    "name": "ipython",
    "version": 3
   },
   "file_extension": ".py",
   "mimetype": "text/x-python",
   "name": "python",
   "nbconvert_exporter": "python",
   "pygments_lexer": "ipython3",
   "version": "3.5.3"
  }
 },
 "nbformat": 4,
 "nbformat_minor": 4
}
