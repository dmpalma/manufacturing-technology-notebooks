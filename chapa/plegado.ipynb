{
 "cells": [
  {
   "cell_type": "markdown",
   "metadata": {},
   "source": [
    "# Plegado de chapa\n",
    "\n",
    "El análisis del plegado de chapa que se desarrolla en este `notebook` asume un material de partida de espesor $t$ y anchura $w$ que se pliega a lo largo de un tramo recto de longitud $l_0$.\n",
    "\n",
    "<img src=\"Fig01.png\" alt=\"Plegado en V y rebordeado (plegado de borde)\" width=\"800\"/>\n",
    "\n",
    "Figura 1: Plegado en V, plegado en U y rebordeado (plegado de borde).\n",
    "\n",
    "La Figura 1 muestra 3 tipos diferentes de plegado de chapa. En el plegado en V se usa un punzón y una matriz. En el plegado en U solo se utiliza el punzón para ajustar el radio de curvatura. En el rebordeado (plegado de borde) es necesario usar un prensachapa.\n",
    "\n",
    "\n",
    "## Fuerza de plegado\n",
    "\n",
    "El plegado de una chapa se obtiene por la acción de un momento flector $M$, que se genera mediante la aplicación de fuerzas de contacto con herramientas (punzón, matriz, prensachapas). En la práctica interesa calcular la fuerza máxima del punzón, ya que es la que determina la capacidad mínima de la prensa. Una fórmula empírica sencilla para estimar esta fuerza máxima, válida para los 3 tipos de plegado de la Figura 1, es la siguiente:\n",
    "\n",
    "$$\n",
    "F = K \\, U\\!T\\!S \\frac{w \\, t^2}{D}\n",
    "\\qquad , \\qquad\n",
    "K = \\left\\{ \n",
    "\\begin{aligned}\n",
    "1.33 & \\quad , \\quad \\text{ plegado en V} \\\\\n",
    "0.7 & \\quad , \\quad \\text{ plegado en U} \\\\\n",
    "0.33 & \\quad , \\quad  \\text{ rebordeado}\n",
    "\\end{aligned}\n",
    "\\right.\n",
    "$$\n",
    "siendo $D$ la abertura de la matriz en plegado en V o U, o la distancia entre puntos de contacto justo al inicio de un rebordeado.\n",
    "\n",
    "> NOTA: En el rebordeado, $D$ es la holgura punzón-matriz ($c$) más los radios de acuerdo del punzón ($R_p$) y de la matriz ($R_m$): $D = R_p + c + R_m$.\n",
    "\n",
    "> NOTA: La fuerza puede interpretarse como $F = \\sigma \\cdot A \\cdot K'$, donde $\\sigma = U\\!T\\!S$, $A = w \\, t$ y el factor corrector es $K' = K \\frac{t}{D}$.\n",
    "\n",
    "\n",
    "### Ejemplo 1\n",
    "\n",
    "Se desea realizar 3 plegados en una chapa de 1 mm de espesor y 10 mm de ancho, de un material cuya tensión de rotura es 500 MPa:\n",
    "\n",
    "1. Plegado en V a 90° con un punzón de radio 2 mm y una matriz de abertura 50 mm.\n",
    "2. Plegado en U a 180° con un punzón de radio 50 mm.\n",
    "3. Rebordeado con herramientas de aristas redondeadas $R_p=R_m=5$ mm y separadas con una holgura de 1.1 mm.\n",
    "\n",
    "Usando la expresión de la fuerza de plegado, calcule la fuerza necesaria en estas 3 situaciones y analice los resultados. ¿Qué operación requiere mayor fuerza y por qué?\n",
    "\n",
    "#### Solución\n",
    "\n",
    "Ejecute la siguiente celda (<kbd>Shift</kbd> + <kbd>Enter</kbd>) para mostrar la solución."
   ]
  },
  {
   "cell_type": "code",
   "execution_count": null,
   "metadata": {},
   "outputs": [],
   "source": [
    "from plegado import *\n",
    "print_solution(1)"
   ]
  },
  {
   "cell_type": "markdown",
   "metadata": {},
   "source": [
    "### Ejemplo 2\n",
    "\n",
    "Dibuje a escala los 3 procesos de plegado del ejemplo anterior, indicando el sentido y dirección de la fuerza que el punzón y la matriz ejerce sobre la chapa, y explique por qué la fuerza necesaria ha sido mayor en el rebordeado.\n",
    "\n",
    "#### Solución\n",
    "\n",
    "Ejecute la siguiente celda (<kbd>Shift</kbd> + <kbd>Enter</kbd>) para mostrar la solución."
   ]
  },
  {
   "cell_type": "code",
   "execution_count": null,
   "metadata": {},
   "outputs": [],
   "source": [
    "print_solution(2)"
   ]
  },
  {
   "cell_type": "markdown",
   "metadata": {},
   "source": [
    "## Radio de curvatura y ángulo de plegado (chapa sin espesor)\n",
    "\n",
    "Al plegar el tramo recto de chapa de longitud $l_0$, el radio $R$ y el ángulo $\\alpha$ están relacionados:\n",
    "\n",
    "$$\n",
    "l_0 = R \\alpha \\quad \\rightarrow \\quad\n",
    "\\alpha = l_0 \\frac{1}{R}\n",
    "$$\n",
    "\n",
    "donde $1/R$ es la curvatura de la chapa.\n",
    "\n",
    "### Ejemplo 3\n",
    "\n",
    "Ejecute la siguiente celda (<kbd>Shift</kbd> + <kbd>Enter</kbd>) para ilustrar de forma interactiva la ecuación anterior para un tramo de longitud $l_0 = 10$ mm. Pruebe a cambiar el valor de la curvatura ($1/R$) y observe cómo se pliega la chapa. La figura mostrará además los valores del radio y del ángulo en cada instante.\n"
   ]
  },
  {
   "cell_type": "code",
   "execution_count": null,
   "metadata": {},
   "outputs": [],
   "source": [
    "%matplotlib inline\n",
    "from ipywidgets import interactive, fixed\n",
    "import ipywidgets as widgets\n",
    "wc=widgets.FloatSlider(min=0.0, max=0.25, step=0.00001, value=0.0, description='1/R:', \n",
    "                       readout=True, readout_format='.5f',)\n",
    "ip=interactive(plot_bending, curvature=wc, l0=fixed(10))\n",
    "ip"
   ]
  },
  {
   "cell_type": "markdown",
   "metadata": {},
   "source": [
    "## Radio de curvatura y ángulo de plegado (chapa con espesor)\n",
    "\n",
    "En el análisis anterior se ha considerado el plegado de una chapa sin espesor. Si se considera que la chapa tiene un espesor $t$ (Figura 2), la curvatura de la chapa será distinta si se mide en la superficie interna ($1/R_i$), en la externa ($1/R_e$, con $R_e = R_i + t$) o en cualquier otro punto del interior de la chapa.\n",
    "\n",
    "<img src=\"Fig02.png\" alt=\"Plegado de un tramo recto de chapa\"/>\n",
    "\n",
    "Figura 2: Plegado de un tramo recto de chapa.\n",
    "\n",
    "### Ejemplo 4\n",
    "\n",
    "Ejecute la siguiente celda (<kbd>Shift</kbd> + <kbd>Enter</kbd>) para ilustrar de forma interactiva el plegado de un tramo de longitud $l_0 = 10$ mm y espesor $t = 1$ mm, variando la curvatura de la cara interna $1/R_i$."
   ]
  },
  {
   "cell_type": "code",
   "execution_count": null,
   "metadata": {},
   "outputs": [],
   "source": [
    "%matplotlib inline\n",
    "wc=widgets.FloatSlider(min=0.0, max=0.25, step=0.00001, value=0.0, description='1/Ri:', \n",
    "                       readout=True, readout_format='.5f',)\n",
    "ip=interactive(plot_sheet_bending, curvature=wc, l0=fixed(10), t=fixed(1))\n",
    "ip"
   ]
  },
  {
   "cell_type": "markdown",
   "metadata": {},
   "source": [
    "## Línea neutra (LN)\n",
    "\n",
    "<img src=\"Fig03.png\" alt=\"Plegado de un tramo recto de chapa\" widht=\"500\"/>\n",
    "\n",
    "Figura 3: Plegado de un tramo recto de chapa.\n",
    "\n",
    "La _línea neutra_ (LN) es la fibra donde la tensión es nula y la _fibra indeformada_ es la fibra donde la deformación es nula. Se puede demostrar que ambas prácticamente coinciden cuando $R_i/t > 4$. La posición de la LN viene dada por el radio de curvatura $R_i + \\lambda \\cdot t$, donde $\\lambda$ es una variable que coincide con la LM ($\\lambda=1/2$) al inicio del plegado y que tiende a disminuir hasta alcanzar un valor $\\lambda=1/3$ cuando la chapa se pliega completamente sobre sí misma ($R_i = 0$). Se usará la siguiente expresión para calcular $\\lambda$:\n",
    "$$\n",
    "\\lambda = \\left\\{ \n",
    "\\begin{aligned}\n",
    "0.5 & \\quad , \\quad R_i/t > 4 \\\\\n",
    "0.42 & \\quad , \\quad 0.2 < R_i/t < 4 \\\\\n",
    "0.33 & \\quad , \\quad R_i/t < 0.2\n",
    "\\end{aligned}\n",
    "\\right.\n",
    "$$\n",
    "\n",
    "Por encima de la LN, el material está traccionado. Por debajo, el material está comprimido.\n",
    "\n",
    "\n",
    "### Ejemplo 5\n",
    "\n",
    "Ejecute la siguiente celda (<kbd>Shift</kbd> + <kbd>Enter</kbd>) para ilustrar de forma interactiva la posición de la LN (<bold><span style=\"color:red\">en rojo</span></bold>). La línea negra discontinua señala la posición de la LM.\n",
    "\n",
    "> NOTA: En este ejemplos se ha calculado la posición de la LN con con el modelo de plegado puro de Hill (1948). Básicamente consiste en resolver la ecuación de equilibrio radial, que da como resultado $R_n = \\sqrt{R_i R_e}$. Como puede verse en la figura interactiva, la LN se desplaza progresivamente durante el plegado desde la LM hacia la cara interna.\n",
    "\n",
    "> La línea azul discontinua señala la posición de la LM original. Se calcula aplicando la igualdad del volumen de las dos mitades de la chapa, la superior y la inferior. Como puede verse en la figura interactiva, se desplaza hacia arriba cuando el plegado es más severo."
   ]
  },
  {
   "cell_type": "code",
   "execution_count": null,
   "metadata": {
    "scrolled": true
   },
   "outputs": [],
   "source": [
    "%matplotlib inline\n",
    "wc=widgets.FloatSlider(min=0.0, max=10, step=0.0001, value=0.25, description='t/Ri:', \n",
    "                       readout=True, readout_format='.5f',)\n",
    "ip=interactive(plot_sheet_bending_neutral_axis, tRi=wc)\n",
    "ip"
   ]
  },
  {
   "cell_type": "markdown",
   "metadata": {},
   "source": [
    "## Tolerancia de plegado (bending allowance)\n",
    "\n",
    "La posición de la LN se usa para calcular las dimensiones de la chapa  de partida, antes del plegado, ya que está directamente relacionada con la cantidad de material que se estira. En general, se suele asumir que la longitud de la LN coincide con la longitud inicial $l_0$ del tramo sin plegar:\n",
    "$$\n",
    "l_0 = \\alpha R_n = \\alpha (R_i + \\lambda t)\n",
    "$$\n",
    "\n",
    "### Ejemplo 6\n",
    "\n",
    "Calcule las longitudes $l_1$ y $l_2$ de las chapas de partida para obtener las 2 piezas de la figura.\n",
    "\n",
    "<img src=\"Exercise06.png\" alt=\"Plegado de un tramo recto de chapa\"/>\n",
    "\n",
    "#### Solución\n",
    "\n",
    "Ejecute la siguiente celda (<kbd>Shift</kbd> + <kbd>Enter</kbd>) para mostrar la solución."
   ]
  },
  {
   "cell_type": "code",
   "execution_count": null,
   "metadata": {},
   "outputs": [],
   "source": [
    "print_solution(6)"
   ]
  },
  {
   "cell_type": "markdown",
   "metadata": {},
   "source": [
    "## Radio mínimo de plegado\n",
    "\n",
    "<img src=\"Fig04.png\" alt=\"Aparición de grietas en la superficie externa de una chapa plegada\" width=\"240\"/>\n",
    "\n",
    "Figura 4: Aparición de grietas en la superficie externa de una chapa plegada.\n",
    "\n",
    "En plegado de chapa, como en todos los procesos de conformado, la aparición de grietas se debe a la falta de ductilidad del material. Sucede en la superficie externa, la fibra más traccionada.\n",
    "\n",
    "Para predecir la aparición de grietas en doblado se toma una medida de ductilidad del material, obtenida mediante ensayos de tracción, y compararla con la deformación que puede alcanzar el material, obtenida en el apartado anterior. Por ejemplo, usando la elongación en rotura $e_u$ (máxima deformación ingenieril a tracción):\n",
    "$$\n",
    "e_e = \\frac{l_e - l_0}{l_0} = \\frac{t - \\lambda t}{R_i + \\lambda t} < e_u\n",
    "\\qquad \\rightarrow \\qquad\n",
    "\\frac{R_i}{t} > \\frac{1-\\lambda}{e_u} - \\lambda\n",
    "$$\n",
    "siendo:\n",
    "$$\n",
    "l_e = \\alpha (R_i + t) \\\\\n",
    "l_0 = \\alpha (R_i + \\lambda t)\n",
    "$$\n",
    "\n",
    "\n",
    "\n",
    "Dado que la reducción de área $r$ en el ensayo de tracción es una medida más realista de la ductilidad del material, se usará ésta:\n",
    "$$\n",
    "r_e = \\frac{A_0 - A_e}{A_0} = 1 - \\frac{l_0}{l_e} = \\frac{t - \\lambda t}{R_i + t} < r\n",
    "\\qquad \\rightarrow \\qquad\n",
    "\\frac{R_i}{t} > \\frac{1-\\lambda}{r} - 1\n",
    "$$\n",
    "\n",
    "### Ejemplo 7\n",
    "\n",
    "En la siguiente gráfica, el área sombreada se corresponde con los valores admisibles de $R_i/t$. La línea vertical representa el proceso de plegado de un determinado material, de reducción de área $r$ (recuerde, desde un valor $R_i=\\infty$ en la chapa plana hasta el valor límite de 0 si la chapa se puede plegar por completo sobre sí misma). El punto sobre la línea representa el valor actual de $R_i/t$.\n",
    "\n",
    "Pruebe a cambiar los argumentos en la función y ejecutar la celda de nuevo (<kbd>Shift</kbd>+<kbd>Enter</kbd>)"
   ]
  },
  {
   "cell_type": "code",
   "execution_count": null,
   "metadata": {},
   "outputs": [],
   "source": [
    "plot_Rit_min(r=0.2, t=2, Ri=10)"
   ]
  },
  {
   "cell_type": "markdown",
   "metadata": {},
   "source": [
    "## Recuperación elástica\n",
    "\n",
    "<img src=\"Fig05.png\" alt=\"Recuperación elástica después del plegado\" width=\"300\"/>\n",
    "\n",
    "Figura 5: Recuperación elástica después del plegado.\n",
    "\n",
    "La chapa tiende a recuperarse elásticamente después de plegarla, como ilustra la Figura 4. Dado que existen fibras acortadas y alargadas, éstas se recuperan alargándose y acortándose respectivamente, provocando una cambio apreciable en el radio final $R_{if}$ y en el ángulo de plegado final $\\alpha_f$.\n",
    "\n",
    "Dado que durante el plegado, el radio $R_i$ disminuye y el ángulo $\\alpha$ aumenta, la recuperación elástica provoca, en general, todo lo contrario: un aumento del radio ($R_{if}$ > $R_i$) y una disminución del ángulo ($\\alpha_f < \\alpha$).\n",
    "El radio después de la recuperación elástica se puede estimar con la siguiente fórmula:\n",
    "\n",
    "$$\n",
    "\\frac{R_i}{R_{if}} = 4 \\left( \\frac{R_i}{t}\\frac{\\sigma_Y}{E} \\right)^3 - 3 \\left( \\frac{R_i}{t}\\frac{\\sigma_Y}{E} \\right) + 1\n",
    "$$\n",
    "\n",
    "Las propiedades más influyentes son el módulo de Young ($E$) y el límite de fluencia ($\\sigma_Y$).\n",
    "\n",
    "\n",
    "## Ejemplo 8\n",
    "\n",
    "Ejecute las siguientes celdas (<kbd>Shift</kbd> + <kbd>Enter</kbd>) para mostrar la solución de cada apartado.\n",
    "\n",
    "\n",
    "a) Represente la función anterior en una gráfica $\\frac{R_i}{R_{if}}$ frente a $\\frac{R_i}{t}$ para un acero con $\\sigma_Y=210$ MPa y $E=210$ GPa. ¿Cuál sería el radio final de una chapa de 1 mm de espesor plegada con un punzón de 100 mm de radio?\n",
    "\n",
    "\n"
   ]
  },
  {
   "cell_type": "code",
   "execution_count": null,
   "metadata": {
    "scrolled": false
   },
   "outputs": [],
   "source": [
    "print_solution(8.1)"
   ]
  },
  {
   "cell_type": "markdown",
   "metadata": {},
   "source": [
    "b) El material empieza a plastificar en la cara externa, la más traccionada, cuando se cumple $\\frac{R_i}{t} = \\frac{E}{2 \\sigma_y}$. En esta situación, ¿cuál es la recuperación elástica según la función?"
   ]
  },
  {
   "cell_type": "code",
   "execution_count": null,
   "metadata": {},
   "outputs": [],
   "source": [
    "print_solution(8.2)"
   ]
  },
  {
   "cell_type": "markdown",
   "metadata": {},
   "source": [
    "c) Si el plegado no es suficiente para producir deformación plástica, $\\frac{R_i}{t} > \\frac{E}{2 \\sigma_y}$, ¿tiene sentido usar la función?"
   ]
  },
  {
   "cell_type": "code",
   "execution_count": null,
   "metadata": {},
   "outputs": [],
   "source": [
    "print_solution(8.3)"
   ]
  },
  {
   "cell_type": "markdown",
   "metadata": {},
   "source": [
    "d) Cuando el plegado produce deformación plástica, $\\frac{R_i}{t} < \\frac{E}{2 \\sigma_y}$, ¿cuáles son los niveles de plegado (valores de $R_i/t$) que producen una mayor y una menor recuperación elástica? Indique dichos vales en la gráfica."
   ]
  },
  {
   "cell_type": "code",
   "execution_count": null,
   "metadata": {},
   "outputs": [],
   "source": [
    "print_solution(8.4)"
   ]
  },
  {
   "cell_type": "markdown",
   "metadata": {},
   "source": [
    "## Ejemplo 9: examen 8/6/2015\n",
    "\n",
    "<img src=\"2015-06-08 problema chapa.png\" alt=\"Plegado de chapa\"/>\n",
    "\n",
    "Se desea fabricar la pieza de la figura mediante un doblado en V. El material de partida es una chapa de aleación de aluminio de 1.6 mm de espesor ($E=75$ GPa, $YS=180$ MPa, $UTS=220$ MPa, $r=15$ %). La matriz tiene una abertura $D=20$ mm y se dispone de 3 punzones, de radios 1, 5 y 10 mm respectivamente.\n",
    "\n",
    "Ejecute las siguientes celdas (<kbd>Shift</kbd> + <kbd>Enter</kbd>) para mostrar la solución de cada apartado.\n",
    "\n",
    "a) Elija el punzón para que la chapa tenga el menor radio posible sin producirse fallo del material."
   ]
  },
  {
   "cell_type": "code",
   "execution_count": null,
   "metadata": {},
   "outputs": [],
   "source": [
    "print_solution(9.1)"
   ]
  },
  {
   "cell_type": "markdown",
   "metadata": {},
   "source": [
    "b) Calcule la fuerza de la operación."
   ]
  },
  {
   "cell_type": "code",
   "execution_count": null,
   "metadata": {},
   "outputs": [],
   "source": [
    "print_solution(9.2)"
   ]
  },
  {
   "cell_type": "markdown",
   "metadata": {},
   "source": [
    "c) Si el punzón tiene 90° de ángulo, calcule el radio de doblado y el ángulo de la chapa tras la recuperación elástica."
   ]
  },
  {
   "cell_type": "code",
   "execution_count": null,
   "metadata": {},
   "outputs": [],
   "source": [
    "print_solution(9.3)"
   ]
  },
  {
   "cell_type": "markdown",
   "metadata": {},
   "source": [
    "La ecuación para la recuperación elástica puede analizarse representándola en la gráfica siguiente:"
   ]
  },
  {
   "cell_type": "code",
   "execution_count": null,
   "metadata": {},
   "outputs": [],
   "source": [
    "%matplotlib inline\n",
    "from ipywidgets import interactive, fixed\n",
    "import ipywidgets as widgets\n",
    "\n",
    "E = 75e3\n",
    "sY = 180\n",
    "t = 1.6\n",
    "Rp = 5\n",
    "\n",
    "wc=widgets.FloatSlider(min=(2*sY)/(E*t)+0.00001, max=1/Rp, step=0.00001, value=0, description='1/Ri:', \n",
    "                       readout=True, readout_format='.5f',)\n",
    "ip=interactive(plot_bending_RiRif, curvatura=wc, t=fixed(t), l=fixed(Rp*3.1416/2), sY=fixed(sY), E=fixed(E))\n",
    "ip"
   ]
  },
  {
   "cell_type": "code",
   "execution_count": null,
   "metadata": {
    "collapsed": true
   },
   "outputs": [],
   "source": []
  }
 ],
 "metadata": {
  "kernelspec": {
   "display_name": "Python [default]",
   "language": "python",
   "name": "python3"
  },
  "language_info": {
   "codemirror_mode": {
    "name": "ipython",
    "version": 3
   },
   "file_extension": ".py",
   "mimetype": "text/x-python",
   "name": "python",
   "nbconvert_exporter": "python",
   "pygments_lexer": "ipython3",
   "version": "3.5.3"
  }
 },
 "nbformat": 4,
 "nbformat_minor": 2
}
