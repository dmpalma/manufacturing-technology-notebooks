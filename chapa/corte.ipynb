{
 "cells": [
  {
   "cell_type": "markdown",
   "metadata": {},
   "source": [
    "# Corte de chapa\n",
    "\n",
    "\n",
    "\n",
    "## Fuerza de corte con cizalla\n",
    "\n",
    "<img src=\"Cizalla.png\" alt=\"Corte con cizalla e inclinada\"/>\n",
    "\n",
    "Figura 1. Corte con cizalla plana e inclinada.\n",
    "\n",
    "La fuerza máxima que se alcanza durante un corte con cizalla se puede estimar mediante la fórmula:\n",
    "$$\n",
    "F = K_1 \\cdot U\\!T\\!S \\cdot A\n",
    "$$\n",
    "siendo $K_1$ una constante que depende del material, entre 0.65 (poco dúctil) y 0.85 (muy dúctil), y $A$ el área de la sección de chapa cortada.\n",
    "\n",
    "Si las herramientas de corte son planas:\n",
    "$$\n",
    "A = t \\, L\n",
    "\\qquad \\rightarrow \\qquad\n",
    "F = K_1 \\cdot U\\!T\\!S \\cdot t \\, L\n",
    "$$\n",
    "\n",
    "Si las herramientas de corte están inclinadas un ángulo $\\alpha$:\n",
    "$$\n",
    "A = t \\, l^* = \\frac{t^2}{\\tan \\alpha}\n",
    "\\qquad \\rightarrow \\qquad\n",
    "F = K_1 \\cdot U\\!T\\!S \\cdot \\frac{t^2}{\\tan \\alpha}\n",
    "$$\n",
    "\n",
    "La energía (trabajo) se puede estimar con la fórmula:\n",
    "$$\n",
    "W = K_2 \\cdot F \\cdot x = K_1 K_2 \\cdot U\\!T\\!S \\cdot t^2 L\n",
    "$$\n",
    "siendo $x$ la carrera de la cizalla y $K_2$ una constante que depende del material, entre 0.5 (blando) y 0.35 (duro).\n",
    "\n",
    "> NOTA: En materiales blandos la evolución de $F$ es prácticamente lineal y, por consiguiente, el trabajo es $W = \\frac{F \\, x}{2}$.\n",
    "\n",
    "### Ejemplo 1\n",
    "\n",
    "Dibuje una gráfica con la fuerza de corte $F$ frente al ángulo de cizalla $\\alpha$ (entre 0 y 30°) para una chapa de aleación de aluminio ($U\\!T\\!S = 220$ MPa) de 1.6 mm de espesor y 50 mm de largo. Calcule cuánto se reduce la fuerza si en vez de una cizalla plana se usa una inclinada con un ángulo de 10°.\n",
    "\n",
    "NOTA: Considere una constante del material $K_1=0.7$.\n",
    "\n",
    "#### Solución\n",
    "\n",
    "Ejecute la siguiente celda (<kbd>Shift</kbd> + <kbd>Enter</kbd>) para mostrar la solución."
   ]
  },
  {
   "cell_type": "code",
   "execution_count": null,
   "metadata": {},
   "outputs": [],
   "source": [
    "from corte import *\n",
    "print_solution(1)"
   ]
  },
  {
   "cell_type": "markdown",
   "metadata": {},
   "source": [
    "## Corte en punzonado y perforado\n",
    "\n",
    "<img src=\"Punzonado.png\" alt=\"Punzonado con herramientas planas\" width=\"300\"/>\n",
    "\n",
    "Figura 2. Punzonado con herramientas planas (sin biseles).\n",
    "\n",
    "En punzonado y perforado con herramientas planas, como en el punzonado de la Figura 2, la fuerza máxima de corte puede estimarse con la misma fórmula que la de cizalla:\n",
    "$$\n",
    "F = K_1 \\cdot U\\!T\\!S \\cdot t \\, L\n",
    "$$\n",
    "donde ahora $L$ es la longitud de todo el contorno de la pieza que se está cortando.\n",
    "\n",
    "<img src=\"Biseles.png\" alt=\"Herramientas biseladas\"/>\n",
    "\n",
    "Figura 3. Herramientas biseladas.\n",
    "\n",
    "En cambio, con herramientas biseladas (inclinadas), como las de la Figura 3, la fórmula para la cizalla inclinada no puede aplicarse directamente sin más debido a que ahora el proceso gradual de corte es más complejo.\n",
    "\n",
    "\n",
    "### Ejemplo 2: examen 24/6/2017 (enunciado modificado)\n",
    "\n",
    "<img src=\"Perfil.png\" alt=\"\" width=\"800\"/>\n",
    "\n",
    "En una empresa de perfilería se pretenden fabricar 500.000 piezas como las que se muestran en la figura de la izquierda mediante un proceso de corte de chapa con matriz compuesta de punzonado-perforado. La figura de la derecha muestra una parte del desecho. El material de partida es una chapa continua de 58 mm de ancho y 2 mm de espesor de una aleación de aluminio ($E = 75$ GPa, $Y\\!S = 155$ MPa, $U\\!T\\!S = 330$ MPa, $r = 29$ %). La matriz de corte utilizada deberá tener unas dimensiones máximas de 80 mm × 80 mm y será instalada en una prensa mecánica de carga nominal 0.5 MN y rendimiento mecánico del 80%. Se pide:\n",
    "\n",
    "Nota: Considere las constantes para fuerza y energía de corte $K_1 = 0.7$ y $K_2 = 0.5$.\n",
    "\n",
    "\n",
    "#### Solución\n",
    "\n",
    "Ejecute las siguientes celdas (<kbd>Shift</kbd> + <kbd>Enter</kbd>) para mostrar la solución de cada apartado.\n",
    "\n",
    "a) La fuerza de corte necesaria para obtener una pieza."
   ]
  },
  {
   "cell_type": "code",
   "execution_count": null,
   "metadata": {},
   "outputs": [],
   "source": [
    "print_solution(2.1)"
   ]
  },
  {
   "cell_type": "markdown",
   "metadata": {},
   "source": [
    "b) El número máximo de piezas a realizar en cada golpe de la prensa."
   ]
  },
  {
   "cell_type": "code",
   "execution_count": null,
   "metadata": {},
   "outputs": [],
   "source": [
    "print_solution(2.2)"
   ]
  },
  {
   "cell_type": "markdown",
   "metadata": {},
   "source": [
    "c) La energía eléctrica necesaria para la fabricación del lote completo de piezas."
   ]
  },
  {
   "cell_type": "code",
   "execution_count": null,
   "metadata": {},
   "outputs": [],
   "source": [
    "print_solution(2.3)"
   ]
  },
  {
   "cell_type": "code",
   "execution_count": null,
   "metadata": {
    "collapsed": true
   },
   "outputs": [],
   "source": []
  }
 ],
 "metadata": {
  "kernelspec": {
   "display_name": "Python [default]",
   "language": "python",
   "name": "python3"
  },
  "language_info": {
   "codemirror_mode": {
    "name": "ipython",
    "version": 3
   },
   "file_extension": ".py",
   "mimetype": "text/x-python",
   "name": "python",
   "nbconvert_exporter": "python",
   "pygments_lexer": "ipython3",
   "version": "3.5.3"
  }
 },
 "nbformat": 4,
 "nbformat_minor": 2
}
