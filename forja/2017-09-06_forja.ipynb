{
 "cells": [
  {
   "cell_type": "markdown",
   "metadata": {},
   "source": [
    "# Examen de Tecnología de Fabricación (GIA) - 6/9/2017 - Problema de forja #\n",
    "\n",
    "Se desea disminuir a 20 mm, si es posible, el espesor de barras prismáticas de acero 1008 en una prensa hidráulica con matrices planas. Se usa un aceite mineral como lubricante. Las barras tienen inicialmente una longitud $l_0=300$ mm, una anchura $w_0=50$ mm y un espesor $h_0=50$ mm. De un ensayo previo normalizado de compresión (con probetas cilíndricas) se conoce que el aumento del área en rotura del material es del $80\\%$.\n",
    "\n",
    "Suponiendo un estado de deformación plana, se obtiene la siguiente distribución de la presión ejercida por las matrices sobre el material:\n",
    "\\begin{equation*}\n",
    "\t\\ln \\frac{p}{\\sigma_Y} = \\mu \\frac{w}{h} \\left(1 - \\frac{x}{w/2} \\right)\n",
    "\\end{equation*}\n",
    "siendo $x$ la distancia al centro de la pieza en la dirección del ancho, tal y como se indica en la sección de la barra deformada $h \\times w$ de la figura.\n",
    "\n",
    "![variables](2017-09-06_forja.png)\n",
    "\n",
    "Conteste a las siguientes preguntas:\n",
    "1. Calcule el espesor mínimo de una barra deformada sin grietas.\n",
    "2. Calcule la tensión de fluencia del material de la barra anterior.\n",
    "3. Calcule los valores máximo y mínimo de presión ejercida para obtener la barra anterior. Dibuje una gráfica con la distribución de presión sobre la sección $h \\times w$.\n",
    "4. Para la misma barra anterior, calcule la fuerza máxima realizada por la prensa.\n",
    "5. Finalmente el proceso se hará a 1000 °C, con una velocidad de la prensa de 1 mm/s y un grafito como lubricante que tiene un coeficiente de fricción de 0.2. Calcule la presión máxima ejercida sobre la sección.\n",
    "\n",
    "# Solución #\n",
    "\n",
    "Datos conocidos:\n",
    "- dimesiones iniciales de la barra\n",
    "- hipótesis de deformación plana: longitud de la barra constante ($l=l_0$)\n",
    "- ley de comportamiento tipo Hollomon ($\\sigma_Y = K \\, \\varepsilon^n$) del acero 1008, según las tablas de propiedades mecánicas\n",
    "- del ensayo de compresión, el aumento del área en rotura del material\n",
    "- coeficción de fricción del aceite mineral ($\\mu$), según las tablas de lubricantes recomendados"
   ]
  },
  {
   "cell_type": "code",
   "execution_count": 1,
   "metadata": {},
   "outputs": [],
   "source": [
    "l=l0 = 300\n",
    "w0 = 50\n",
    "h0 = 50\n",
    "\n",
    "K = 600\n",
    "n = 0.25\n",
    "def SY(deform):\n",
    "    return K*deform**n\n",
    "\n",
    "r = 0.8\n",
    "\n",
    "mu = 0.1"
   ]
  },
  {
   "cell_type": "markdown",
   "metadata": {},
   "source": [
    "## 1. Calcule el espesor mínimo de una barra deformada sin grietas. ##\n",
    "\n",
    "Según el enunciado, se desea que el espesor final sea $h=20$ mm, pero sin grietas. A partir del aumento máximo de área:\n",
    "$$ r = \\frac{A - A_0}{A_0} \\rightarrow \\frac{A}{A_0} = \\frac{l w}{l_0 w_0} = \\frac{w}{w_0} = 1+r $$\n",
    "se obtiene el espesor de la barra que puede alcanzarse:\n",
    "$$ A h = A_0 h_0 \\rightarrow h = h_0 \\frac{A_0}{A} = h_0 \\frac{1}{1+r} $$\n"
   ]
  },
  {
   "cell_type": "code",
   "execution_count": 2,
   "metadata": {},
   "outputs": [
    {
     "name": "stdout",
     "output_type": "stream",
     "text": [
      "Espesor h = 27.8 mm, anchura w = 90.0 mm, relación w/h = 3.24\n"
     ]
    }
   ],
   "source": [
    "h = h0/(1+r)\n",
    "w = w0*h0/h\n",
    "print(\"Espesor h = %0.1f mm, anchura w = %0.1f mm, relación w/h = %0.2f\" %(h, w, w/h))"
   ]
  },
  {
   "cell_type": "markdown",
   "metadata": {},
   "source": [
    "## 2. Calcule la tensión de fluencia del material de la barra anterior. ##\n",
    "\n",
    "Dado que la barra se deforma justo hasta su límite de rotura, la máxima deformación posible será:\n",
    "$$ \\varepsilon = \\ln \\frac{A}{A_0} = \\ln (1+r) $$\n",
    "y la tensión de fluencia:\n",
    "$$ \\sigma_Y = K \\varepsilon^n $$"
   ]
  },
  {
   "cell_type": "code",
   "execution_count": 3,
   "metadata": {},
   "outputs": [
    {
     "name": "stdout",
     "output_type": "stream",
     "text": [
      "Deformación = 0.588, tensión de fluencia = 525.4 MPa\n"
     ]
    }
   ],
   "source": [
    "import numpy as np\n",
    "deform = np.log(1+r)\n",
    "tens = SY(deform)\n",
    "print(\"Deformación = %0.3f, tensión de fluencia = %0.1f MPa\" %(deform, tens))"
   ]
  },
  {
   "cell_type": "markdown",
   "metadata": {},
   "source": [
    "## 3. Calcule los valores máximo y mínimo de presión ejercida para obtener la barra anterior. Dibuje una gráfica con la distribución de presión sobre la sección $h \\times w$. ##\n",
    "\n",
    "La presión sigue una ley exponencial decreciente con $x$:\n",
    "\\begin{equation*}\n",
    "\t\\ln \\frac{p}{\\sigma_Y} = \\mu \\frac{w}{h} \\left(1 - \\frac{x}{w/2} \\right) \\rightarrow p = \\sigma_Y \\cdot \\exp\\left[ \\mu \\frac{w}{h} \\left( 1 - \\frac{x}{w/2} \\right) \\right]\n",
    "\\end{equation*}\n",
    "\n",
    "La presión es máxima justo en el centro de la superficie de contacto:\n",
    "\\begin{equation*}\n",
    "\tp_{max} = p(x=0) = \\sigma_Y \\exp\\left( \\mu\\,w/h \\right)\n",
    "\\end{equation*}\n",
    "y mínima en sus extremos:\n",
    "\\begin{equation*}\n",
    "\tp_{min} = p(x=w/2) = \\sigma_Y\n",
    "\\end{equation*}\n"
   ]
  },
  {
   "cell_type": "code",
   "execution_count": 5,
   "metadata": {},
   "outputs": [
    {
     "name": "stdout",
     "output_type": "stream",
     "text": [
      "Presión máxima = 726.4 MPa\n",
      "Presión mínima = 525.4 MPa\n"
     ]
    },
    {
     "data": {
      "image/png": "[encoded data removed]",
      "text/plain": [
       "<matplotlib.figure.Figure at 0x7f6855eb35f8>"
      ]
     },
     "metadata": {
      "needs_background": "light"
     },
     "output_type": "display_data"
    }
   ],
   "source": [
    "def p(x):\n",
    "    return tens * np.exp(mu*w/h*(1-x/(w/2)))\n",
    "pmax = p(0)\n",
    "pmin = p(w/2)\n",
    "print(\"Presión máxima = %0.1f MPa\" %(pmax))\n",
    "print(\"Presión mínima = %0.1f MPa\" %(pmin))\n",
    "\n",
    "import matplotlib.pyplot as plt\n",
    "x = np.arange(0, w/2, w/20);\n",
    "plt.plot(x, p(x), 'b-')\n",
    "plt.plot(-x, p(x), 'b-')\n",
    "plt.ylim(0, pmax+100)\n",
    "plt.xlabel(\"Distancia al centro de la pieza, $x$ (mm)\")\n",
    "plt.ylabel(\"Presión, $p$ (MPa)\")\n",
    "plt.show()"
   ]
  },
  {
   "cell_type": "markdown",
   "metadata": {},
   "source": [
    "## 4. Para la misma barra anterior, calcule la fuerza máxima realizada por la prensa. ##\n",
    "\n",
    "La fuerza puede calcularse como la presión media por el área de contacto con las matrices planas:\n",
    "\\begin{equation*}\n",
    "\tF = \\overline{p} \\cdot w \\, l\n",
    "\\end{equation*}\n",
    "donde la presión media se calcula como:\n",
    "\\begin{equation*}\n",
    "\t\\overline{p} = \\frac{1}{w/2} \\int_0^{w/2} p\\, \\mathrm{d}x = \\sigma_Y \\frac{\\mathrm{e}^{\\mu\\,w/h} -1}{\\mu\\,w/h}\n",
    "\\end{equation*}"
   ]
  },
  {
   "cell_type": "code",
   "execution_count": 6,
   "metadata": {},
   "outputs": [
    {
     "name": "stdout",
     "output_type": "stream",
     "text": [
      "pmed = 620.5 MPa\n",
      "F = 16752267 N = 16.8 MN\n"
     ]
    }
   ],
   "source": [
    "pmed = tens/(mu*w/h)*(np.exp(mu*w/h)-1)\n",
    "F = pmed*w*l\n",
    "print(\"pmed = %.1f MPa\" %(pmed))\n",
    "print(\"F = %.0f N = %.1f MN\" %(F, F/10**6))"
   ]
  },
  {
   "cell_type": "markdown",
   "metadata": {},
   "source": [
    "## 5. Finalmente el proceso se hará a 1000 °C, con una velocidad de la prensa de 1 mm/s y un grafito como lubricante que tiene un coeficiente de fricción de 0.2. Calcule la presión máxima ejercida sobre la sección. ##\n",
    "\n",
    "Se producen los siguientes cambios:\n",
    "- Nueva ley de comportamiento en caliente: $\\sigma_Y = C \\, \\dot{\\varepsilon}^m$, con $\\dot{\\varepsilon}=v/h$.\n",
    "- En caliente aumenta la ductilidad así que se asume que pueden obtenerse barras de 20 mm de espesor.\n",
    "- Lubricante (grafito según las tablas de lubricantes recomendados): $\\mu=0.2$"
   ]
  },
  {
   "cell_type": "code",
   "execution_count": 7,
   "metadata": {},
   "outputs": [
    {
     "name": "stdout",
     "output_type": "stream",
     "text": [
      "Sección deformada: h = 20 mm, w = 125.0 mm\n",
      "Velocidad de deformación = 0.050 s^-1\n",
      "Tensión de fluencia = 74.1 MPa\n",
      "Evolución tensión-deformación en frío y caliente:\n"
     ]
    },
    {
     "data": {
      "image/png": "[encoded data removed]",
      "text/plain": [
       "<matplotlib.figure.Figure at 0x7f6855b78198>"
      ]
     },
     "metadata": {
      "needs_background": "light"
     },
     "output_type": "display_data"
    },
    {
     "name": "stdout",
     "output_type": "stream",
     "text": [
      "Presión máxima en caliente: pmax = 258.7 MPa\n",
      "Presión mínima en caliente: pmim = 105.2 MPa\n",
      "Distribución final de la presión en frío y caliente:\n"
     ]
    },
    {
     "data": {
      "image/png": "[encoded data removed]",
      "text/plain": [
       "<matplotlib.figure.Figure at 0x7f6855b78d30>"
      ]
     },
     "metadata": {
      "needs_background": "light"
     },
     "output_type": "display_data"
    }
   ],
   "source": [
    "C = 100\n",
    "m = 0.1\n",
    "def SY1000(vdef):\n",
    "    return C*vdef**m\n",
    "\n",
    "h2 = 20\n",
    "w2 = w0*h0/h2\n",
    "print(\"Sección deformada: h = 20 mm, w = %.1f mm\" %(w2))\n",
    "\n",
    "v = 1         # en mm/s\n",
    "def vd(v, h): # en s^-1\n",
    "    return v/h\n",
    "vdef = vd(v, h2)    # en s^-1\n",
    "tens2 = SY1000(vdef)\n",
    "print(\"Velocidad de deformación = %.3f s^-1\" %(vdef))\n",
    "print(\"Tensión de fluencia = %.1f MPa\" %(tens2))\n",
    "\n",
    "print(\"Evolución tensión-deformación en frío y caliente:\")\n",
    "hx = np.arange(h0, h2, -1);\n",
    "plt.plot(np.log(h0/hx), SY(np.log(h0/hx)), 'b-')\n",
    "plt.plot(np.log(h0/hx), SY1000(vd(v, hx)), 'r-')\n",
    "plt.xlabel(r\"Deformación, $\\varepsilon$\")\n",
    "plt.ylabel(r\"Tensión, $\\sigma$ (MPa)\")\n",
    "plt.show()\n",
    "\n",
    "mu2=0.2\n",
    "def p1000(x):\n",
    "    return tens2 * np.exp(mu2*w2/h2*(1 - x*2/w2))\n",
    "def p1000(x):\n",
    "    return tens2 * np.exp(1.25*(1 - x/62.5))\n",
    "p2max = p1000(0)\n",
    "p2min = p1000(w/2)\n",
    "print(\"Presión máxima en caliente: pmax = %.1f MPa\" %(p2max))\n",
    "print(\"Presión mínima en caliente: pmim = %.1f MPa\" %(p2min))\n",
    "\n",
    "print(\"Distribución final de la presión en frío y caliente:\")\n",
    "x = np.arange(0, w/2, w/20);\n",
    "x2 = np.arange(0, w2/2, w2/20);\n",
    "plt.plot(x, p(x), 'b-')\n",
    "plt.plot(-x, p(x), 'b-')\n",
    "plt.plot(x2, p1000(x2), 'r-')\n",
    "plt.plot(-x2, p1000(x2), 'r-')\n",
    "plt.ylim(0, pmax+100)\n",
    "plt.xlabel(\"Distancia al centro de la pieza, $x$ (mm)\")\n",
    "plt.ylabel(\"Presión, $p$ (MPa)\")\n",
    "plt.show()"
   ]
  }
 ],
 "metadata": {
  "kernelspec": {
   "display_name": "Python [default]",
   "language": "python",
   "name": "python3"
  },
  "language_info": {
   "codemirror_mode": {
    "name": "ipython",
    "version": 3
   },
   "file_extension": ".py",
   "mimetype": "text/x-python",
   "name": "python",
   "nbconvert_exporter": "python",
   "pygments_lexer": "ipython3",
   "version": "3.5.3"
  }
 },
 "nbformat": 4,
 "nbformat_minor": 4
}
