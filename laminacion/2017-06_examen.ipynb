{
 "cells": [
  {
   "cell_type": "markdown",
   "metadata": {},
   "source": [
    "## Examen 24/6/2017: problema de laminación (enunciado revisado)\n",
    "\n",
    "En un tren de laminación en 2 etapas con rodillos de diámetro 250 mm (en ambas etapas) se lamina en frío una chapa de acero de 3 mm de espesor y 80 mm de ancho. Los espesores obtenidos en las dos etapas sucesivas son 2.5 y 2 mm. El material presenta un comportamiento mecánico que se puede aproximar por la ley $\\sigma_Y = 600 \\varepsilon^{0.25}$.  Suponga un coeficiente de fricción de 0.12. Se pide:\n",
    "\n",
    "1. Comprobar que el arrastre es natural en ambas etapas.\n",
    "2. Calcular la fuerza de laminación en cada etapa.\n",
    "3. Calcular la velocidad de los rodillos (en rpm) en cada etapa para una producción de 10 m/min. Suponga que la velocidad de los rodillos es un 90% de la velocidad de salida del material en cada etapa.\n",
    "4. Calcular la potencia mećanica necesaria en el apartado anterior.\n",
    "\n",
    "### Solución"
   ]
  },
  {
   "cell_type": "code",
   "execution_count": 1,
   "metadata": {},
   "outputs": [],
   "source": [
    "import math\n",
    "\n",
    "R = 125\n",
    "w = 80\n",
    "h0 = 3\n",
    "h1 = 2.5\n",
    "h2 = 2\n",
    "K = 600\n",
    "n = 0.25\n",
    "sy = lambda e: K*e**n\n",
    "mu = 0.12\n",
    "\n",
    "v2 = 10 # m/min"
   ]
  },
  {
   "cell_type": "markdown",
   "metadata": {},
   "source": [
    "#### Comprobación de arrastre natural\n",
    "\n",
    "$$\n",
    "\\mu > \\tan \\alpha = \\sqrt \\frac{\\Delta h}{R}\n",
    "$$\n",
    "siendo $\\Delta h = 0.5$ mm en las 2 etapas."
   ]
  },
  {
   "cell_type": "code",
   "execution_count": 2,
   "metadata": {},
   "outputs": [
    {
     "name": "stdout",
     "output_type": "stream",
     "text": [
      "mu = 0.12 > 0.063\n"
     ]
    }
   ],
   "source": [
    "tga = ((h0-h1)/R)**0.5\n",
    "print('mu = %s > %0.3f' % (mu, tga))"
   ]
  },
  {
   "cell_type": "markdown",
   "metadata": {},
   "source": [
    "#### Fuerza de laminación en cada etapa\n",
    "\n",
    "Hay que aplicar la fórmula $F =Q \\cdot \\sigma_Y \\cdot w L$ en cada tren de laminación.\n",
    "\n",
    "Deformaciones y tensiones en el material:"
   ]
  },
  {
   "cell_type": "code",
   "execution_count": 3,
   "metadata": {},
   "outputs": [
    {
     "name": "stdout",
     "output_type": "stream",
     "text": [
      "(Deformación, tensión en MPa) = 0:(0.000, 0.0) -> 1:(0.182, 392.1) -> 2:(0.405, 478.8)\n",
      "Primera etapa: e01 = 0.182, sypro = 313.7 MPa\n",
      "Segunda etapa: e12 = 0.223, sypro = 439.7 MPa\n"
     ]
    }
   ],
   "source": [
    "e01 = math.log(h0/h1)\n",
    "e12 = math.log(h1/h2)\n",
    "e0 = 0\n",
    "e1 = e0 + e01\n",
    "e2 = e1 + e12\n",
    "sypro = lambda ei, ef: K/(n+1)*(ef**(n+1)-ei**(n+1))/(ef-ei)\n",
    "sypro1 = sypro(e0, e1)\n",
    "sypro2 = sypro(e1, e2)\n",
    "print('(Deformación, tensión en MPa) = 0:(%0.3f, %0.1f) -> 1:(%0.3f, %0.1f) -> 2:(%0.3f, %0.1f)' %(e0,sy(e0),e1,sy(e1),e2,sy(e2)))\n",
    "print('Primera etapa: e01 = %0.3f, sypro = %0.1f MPa' % (e01, sypro1))\n",
    "print('Segunda etapa: e12 = %0.3f, sypro = %0.1f MPa' % (e12, sypro2))"
   ]
  },
  {
   "cell_type": "markdown",
   "metadata": {},
   "source": [
    "Factor de forma $L/\\overline h$:"
   ]
  },
  {
   "cell_type": "code",
   "execution_count": 4,
   "metadata": {},
   "outputs": [
    {
     "name": "stdout",
     "output_type": "stream",
     "text": [
      "L = 7.906 mm\n",
      "Primera etapa: h = 2.750 mm, L/h = 2.875\n",
      "Segunda etapa: h = 2.250 mm, L/h = 3.514\n"
     ]
    }
   ],
   "source": [
    "L = (R*(h0-h1))**0.5\n",
    "h01 = (h0+h1)/2\n",
    "h12 = (h1+h2)/2\n",
    "print('L = %0.3f mm' % L)\n",
    "print('Primera etapa: h = %0.3f mm, L/h = %0.3f' % (h01, L/h01))\n",
    "print('Segunda etapa: h = %0.3f mm, L/h = %0.3f' % (h12, L/h12))"
   ]
  },
  {
   "cell_type": "markdown",
   "metadata": {},
   "source": [
    "El factor corrector de presión $Q$ se obtiene del formulario.\n",
    "\n",
    "La presión y la fuerza en cada tren de laminación se obtiene entonces como:"
   ]
  },
  {
   "cell_type": "code",
   "execution_count": 5,
   "metadata": {},
   "outputs": [
    {
     "name": "stdout",
     "output_type": "stream",
     "text": [
      "Primera etapa: p = 345.0 MPa, F = 218.2 kN\n",
      "Segunda etapa: p = 527.7 MPa, F = 333.7 kN\n"
     ]
    }
   ],
   "source": [
    "Q1 = 1.1\n",
    "Q2 = 1.2\n",
    "p1 = Q1*sypro1\n",
    "p2 = Q2*sypro2\n",
    "F1 = p1*L*w\n",
    "F2 = p2*L*w\n",
    "print('Primera etapa: p = %0.1f MPa, F = %0.1f kN' % (p1, F1/1e3))\n",
    "print('Segunda etapa: p = %0.1f MPa, F = %0.1f kN' % (p2, F2/1e3))"
   ]
  },
  {
   "cell_type": "markdown",
   "metadata": {},
   "source": [
    "#### Velocidad de los rodillos\n",
    "\n",
    "La producción es $v_2 = 10$ m/min. Por conservación de volumen se obtiene el resto de velocidades del material:"
   ]
  },
  {
   "cell_type": "code",
   "execution_count": 6,
   "metadata": {},
   "outputs": [
    {
     "name": "stdout",
     "output_type": "stream",
     "text": [
      "(A en mm^2, v en m/min) = 0:(240, 6.67) -> 1:(200, 8.00) -> 2:(160, 10.00)\n"
     ]
    }
   ],
   "source": [
    "A0 = h0*w\n",
    "A1 = h1*w\n",
    "A2 = h2*w\n",
    "v0 = v2*A2/A0\n",
    "v1 = v2*A2/A1\n",
    "print('(A en mm^2, v en m/min) = 0:(%0.0f, %0.2f) -> 1:(%0.0f, %0.2f) -> 2:(%0.0f, %0.2f)' %(A0, v0, A1, v1, A2, v2))"
   ]
  },
  {
   "cell_type": "markdown",
   "metadata": {},
   "source": [
    "Velocidades de los rodillos:"
   ]
  },
  {
   "cell_type": "code",
   "execution_count": 7,
   "metadata": {},
   "outputs": [
    {
     "name": "stdout",
     "output_type": "stream",
     "text": [
      "Primera etapa: vR = 7.2 m/min, omega = 0.960 rad/s = 9.2 rpm\n",
      "Segunda etapa: vR = 9.0 m/min, omega = 1.200 rad/s = 11.5 rpm\n"
     ]
    }
   ],
   "source": [
    "vR1 = 0.9*v1\n",
    "vR2 = 0.9*v2\n",
    "omega1 = vR1/(R/1000)/60\n",
    "omega2 = vR2/(R/1000)/60\n",
    "print('Primera etapa: vR = %0.1f m/min, omega = %0.3f rad/s = %0.1f rpm' % (vR1, omega1, omega1*60/(2*math.pi)))\n",
    "print('Segunda etapa: vR = %0.1f m/min, omega = %0.3f rad/s = %0.1f rpm' % (vR2, omega2, omega2*60/(2*math.pi)))"
   ]
  },
  {
   "cell_type": "markdown",
   "metadata": {},
   "source": [
    "#### Potencia mecánica"
   ]
  },
  {
   "cell_type": "code",
   "execution_count": 8,
   "metadata": {},
   "outputs": [
    {
     "name": "stdout",
     "output_type": "stream",
     "text": [
      "Primera etapa: T = 776.3 Nm, P = 1.5 kW\n",
      "Segunda etapa: T = 1187.2 Nm, P = 1.9 kW\n"
     ]
    }
   ],
   "source": [
    "landa = 0.45\n",
    "T1 = landa*(L/1000)*F1\n",
    "T2 = landa*(L/1000)*F2\n",
    "P1 = 2*T1*omega1\n",
    "P2 = 2*T1*omega2\n",
    "print('Primera etapa: T = %0.1f Nm, P = %0.1f kW' % (T1, P1/1e3))\n",
    "print('Segunda etapa: T = %0.1f Nm, P = %0.1f kW' % (T2, P2/1e3))"
   ]
  },
  {
   "cell_type": "code",
   "execution_count": null,
   "metadata": {},
   "outputs": [],
   "source": []
  }
 ],
 "metadata": {
  "kernelspec": {
   "display_name": "Python [default]",
   "language": "python",
   "name": "python3"
  },
  "language_info": {
   "codemirror_mode": {
    "name": "ipython",
    "version": 3
   },
   "file_extension": ".py",
   "mimetype": "text/x-python",
   "name": "python",
   "nbconvert_exporter": "python",
   "pygments_lexer": "ipython3",
   "version": "3.5.3"
  }
 },
 "nbformat": 4,
 "nbformat_minor": 4
}
